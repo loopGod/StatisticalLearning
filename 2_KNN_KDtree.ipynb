{
 "cells": [
  {
   "cell_type": "markdown",
   "metadata": {},
   "source": [
    "# 第 2 章 KNN（KD tree搜索）\n",
    "## By LiuGang - 2018/11/13\n",
    "## Reference Book - statistical learning method (Chinese)<br>Description: faster than traversal, more obvious in the case of more X and more y.\n",
    "### 1:  Create some data"
   ]
  },
  {
   "cell_type": "code",
   "execution_count": 170,
   "metadata": {},
   "outputs": [
    {
     "name": "stdout",
     "output_type": "stream",
     "text": [
      "[5521 1033  741]\n"
     ]
    }
   ],
   "source": [
    "import numpy as np\n",
    "#X = np.array([[1,2],[1,1],[2,1],[2,2],[1.5,3],[3,3],[2.5,0.5],[4,3]])\n",
    "#y = np.array([0,0,0,0,1,1,1,1])\n",
    "np.random.seed(5)\n",
    "X = np.random.randint(1,10000,size=(100000, 3))\n",
    "y = np.array([1 if i%2==0 else 0 for i in range(100000)])"
   ]
  },
  {
   "cell_type": "markdown",
   "metadata": {},
   "source": [
    "### 2: Build KD Tree"
   ]
  },
  {
   "cell_type": "code",
   "execution_count": 102,
   "metadata": {},
   "outputs": [],
   "source": [
    "class kd_node():\n",
    "    def __init__(self,x):\n",
    "        self.val = x\n",
    "        self.parent = None\n",
    "        self.left = None\n",
    "        self.right = None\n",
    "        self.dim = 1\n",
    "        self.y = 0\n"
   ]
  },
  {
   "cell_type": "code",
   "execution_count": 166,
   "metadata": {},
   "outputs": [],
   "source": [
    "class kd_tree():\n",
    "    def __init__(self, data):\n",
    "        self.data = data\n",
    "        self.dim = data.shape[1]\n",
    "        self.mindis = np.nan\n",
    "        self.nearest_node = None\n",
    "        self.k_point = []\n",
    "        self.k_dis = []\n",
    "    \n",
    "    def init_use(self):\n",
    "        self.mindis = np.nan\n",
    "        self.nearest_node = None\n",
    "        self.k_point = []\n",
    "        self.k_dis = []\n",
    "        \n",
    "    def build_tree(self, data, y, sdim, head, parent):\n",
    "        if len(data) == 0:\n",
    "            return\n",
    "        sdim = sdim%self.dim\n",
    "        data = data[data[:,sdim].argsort()]\n",
    "        medi = data.shape[0]//2\n",
    "        \n",
    "        head = kd_node(data[medi])\n",
    "        head.dim = sdim\n",
    "        head.y = y[medi]\n",
    "        head.parent = parent\n",
    "        head.left = self.build_tree(data[0:medi], y[0:medi], sdim+1,head.left, head)\n",
    "        head.right = self.build_tree(data[medi+1:], y[medi+1:], sdim+1, head.right, head)\n",
    "        return head\n",
    "    \n",
    "    def get_euc_dis(self,x1,x2):\n",
    "        return np.sum(np.multiply(x1-x2,x1-x2))**(0.5)\n",
    "    \n",
    "    def kd_get_path(self, root, point, k):\n",
    "        stack = []\n",
    "        stack.append(root)\n",
    "        self.nearest_node = root\n",
    "        root_dis = self.get_euc_dis(root.val, point)\n",
    "        self.mindis = min(root_dis, self.mindis)\n",
    "        #save top-k value\n",
    "        if len(self.k_point) < k:\n",
    "            self.k_point.append(root)\n",
    "            self.k_dis.append(root_dis)\n",
    "        else:\n",
    "            self.k_point.append(root)\n",
    "            self.k_dis.append(root_dis)\n",
    "            dis_arg = np.array(self.k_dis).argsort()\n",
    "            self.k_dis = np.array(self.k_dis)[dis_arg].tolist()[0:k]\n",
    "            self.k_point = np.array(self.k_point)[dis_arg].tolist()[0:k]\n",
    "        \n",
    "        while True:\n",
    "            if point[root.dim] < root.val[root.dim]:\n",
    "                root = root.left\n",
    "            else:\n",
    "                root = root.right\n",
    "            if root:\n",
    "                new_dis = self.get_euc_dis(root.val, point)\n",
    "                #save top-k value\n",
    "                if len(self.k_point) < k:\n",
    "                    self.k_point.append(root)\n",
    "                    self.k_dis.append(new_dis)\n",
    "                else:\n",
    "                    self.k_point.append(root)\n",
    "                    self.k_dis.append(new_dis)\n",
    "                    dis_arg = np.array(self.k_dis).argsort()\n",
    "                    self.k_dis = np.array(self.k_dis)[dis_arg].tolist()[0:k]\n",
    "                    self.k_point = np.array(self.k_point)[dis_arg].tolist()[0:k]\n",
    "                \n",
    "                if new_dis < self.mindis:\n",
    "                    self.nearest_node = root\n",
    "                    self.mindis = new_dis\n",
    "                stack.append(root)\n",
    "            else:\n",
    "                break\n",
    "        return stack, self.mindis, self.nearest_node\n",
    "    \n",
    "    def knn_search(self, root, point, k):\n",
    "        self.init_use()\n",
    "        stack, __m, __n = self.kd_get_path(root, point, k)\n",
    "        while True:\n",
    "            back_node = stack.pop()\n",
    "            if back_node.parent == None:\n",
    "                break\n",
    "            if abs(point[back_node.parent.dim] - back_node.parent.val[back_node.parent.dim]) <= self.mindis:\n",
    "                if back_node.parent.right and back_node.parent.left and back_node.parent.left == back_node:\n",
    "                    back_stack, __m, __n = self.kd_get_path(back_node.parent.right, point, k)\n",
    "                elif back_node.parent.right and back_node.parent.left and back_node.parent.right == back_node:\n",
    "                    back_stack, __m, __n = self.kd_get_path(back_node.parent.left, point, k)\n",
    "        return self.mindis, self.k_point, self.k_dis\n",
    "    \n",
    "    def predict_y(self, root, points, k):\n",
    "        _result = []\n",
    "        for point in points:\n",
    "            mindis, point_node, dis = self.knn_search(root, point, k)\n",
    "            _result.append(np.argmax(np.bincount(np.array([nn.y for nn in point_node]))))\n",
    "        return _result\n",
    "    \n",
    "    def predict_point(self, root, points, k):\n",
    "        _result = []\n",
    "        for point in points:\n",
    "            mindis, point_node, dis = self.knn_search(root, point, k)\n",
    "            _result.append([nn.val for nn in point_node])\n",
    "        return _result\n",
    "   \n"
   ]
  },
  {
   "cell_type": "markdown",
   "metadata": {},
   "source": [
    "### 3: Test"
   ]
  },
  {
   "cell_type": "code",
   "execution_count": 174,
   "metadata": {},
   "outputs": [
    {
     "name": "stdout",
     "output_type": "stream",
     "text": [
      "[1, 1, 0, 1, 1, 0]\n",
      "1.7096930000000015\n"
     ]
    }
   ],
   "source": [
    "import time\n",
    "t0 = time.clock()\n",
    "kdtree = kd_tree(X)\n",
    "root = kdtree.build_tree(X, y, 0, None, None)\n",
    "yres = kdtree.predict_y(root, np.array([[1.95,0,0],[600,1000,200],[7,500,1568],[1.95,0,0],[600,1000,200],[7,500,1568]]), 5)\n",
    "t1 = time.clock()\n",
    "print(yres)\n",
    "print(t1 - t0)"
   ]
  },
  {
   "cell_type": "code",
   "execution_count": null,
   "metadata": {},
   "outputs": [],
   "source": []
  },
  {
   "cell_type": "code",
   "execution_count": null,
   "metadata": {},
   "outputs": [],
   "source": []
  },
  {
   "cell_type": "code",
   "execution_count": null,
   "metadata": {},
   "outputs": [],
   "source": []
  },
  {
   "cell_type": "code",
   "execution_count": null,
   "metadata": {},
   "outputs": [],
   "source": []
  }
 ],
 "metadata": {
  "kernelspec": {
   "display_name": "Python 3",
   "language": "python",
   "name": "python3"
  },
  "language_info": {
   "codemirror_mode": {
    "name": "ipython",
    "version": 3
   },
   "file_extension": ".py",
   "mimetype": "text/x-python",
   "name": "python",
   "nbconvert_exporter": "python",
   "pygments_lexer": "ipython3",
   "version": "3.5.2"
  }
 },
 "nbformat": 4,
 "nbformat_minor": 2
}
