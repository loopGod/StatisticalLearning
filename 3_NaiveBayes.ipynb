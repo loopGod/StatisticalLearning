{
 "cells": [
  {
   "cell_type": "markdown",
   "metadata": {},
   "source": [
    "# 第 3 章 NaiveBayes\n",
    "## By LiuGang - 2018/11/14\n",
    "## Reference Book - statistical learning method (Chinese)<br>Include Gauss probability distribution and Laplasse smoothing.\n",
    "### 1:  Create some data"
   ]
  },
  {
   "cell_type": "code",
   "execution_count": 109,
   "metadata": {},
   "outputs": [],
   "source": [
    "import numpy as np\n",
    "import pandas as pd\n",
    "# 有无房，婚姻状况，年收入\n",
    "# 1-有房 2-无房\n",
    "# 1-单身 2-结婚 3-离婚\n",
    "# 年收入- K\n",
    "X = np.array([[1,1,125],\n",
    "              [2,2,100],\n",
    "              [2,1,70],\n",
    "              [1,2,120],\n",
    "                  [2,3,95],\n",
    "              [2,2,60],\n",
    "              [1,3,220],\n",
    "                  [2,1,85],\n",
    "              [2,2,75],\n",
    "                  [2,1,90]])\n",
    "# 0-没有拖欠贷款 1-有拖欠贷款\n",
    "y = np.array([0,0,0,0,1,0,0,1,0,1])"
   ]
  },
  {
   "cell_type": "markdown",
   "metadata": {},
   "source": [
    "### 2: Naive Bayes Class"
   ]
  },
  {
   "cell_type": "code",
   "execution_count": 107,
   "metadata": {},
   "outputs": [],
   "source": [
    "class NaiveBayes():\n",
    "    def __init__(self, X, y):\n",
    "        if type(X)==np.ndarray:\n",
    "            df_x = pd.DataFrame(X)\n",
    "            df_x.columns = ['c'+str(i) for i in range(df_x.shape[1])]\n",
    "            df_x['y'] = y\n",
    "        self.X = X\n",
    "        self.Xy = df_x\n",
    "        self.y = y\n",
    "        \n",
    "    def __get_yval_p(self, y_val):\n",
    "        return len(self.y[self.y==y_val])/len(self.y)\n",
    "    \n",
    "    def __get_mean_var(self, y_val):\n",
    "        return np.mean(self.Xy[self.Xy['y']==y_val], axis=0), np.var(self.Xy[self.Xy['y']==y_val], axis=0)\n",
    "    \n",
    "    def __get_gauss_p(self, mean, var, x):\n",
    "        return (1/(var*(2*np.pi)**0.5))*np.exp(-((x-mean)**2)/(2*var))\n",
    "    \n",
    "    def predict(self, xdata):\n",
    "        pred = []\n",
    "        for data in xdata:\n",
    "            _pred = []\n",
    "            class_num = len(set(self.y))\n",
    "            for i in range(class_num):\n",
    "                mean, var = self.__get_mean_var(i)\n",
    "                p_tmp = self.__get_yval_p(i)     # Priori probability\n",
    "                for j in range(self.X.shape[1]):\n",
    "                    if var['c'+str(j)] != 0:    # if var==0 : the feature is unuseful, so drop the feature \n",
    "                        p_tmp *= self.__get_gauss_p(mean['c'+str(j)], var['c'+str(j)], data[j]) #Gauss probability\n",
    "                _pred.append(p_tmp)\n",
    "            pred.append(_pred)\n",
    "        return pred\n"
   ]
  },
  {
   "cell_type": "code",
   "execution_count": 108,
   "metadata": {},
   "outputs": [
    {
     "name": "stdout",
     "output_type": "stream",
     "text": [
      "[[0.00011461345502696631, 5.6905041275029426e-15], [4.504858962077719e-05, 0.002509987384770473]]\n"
     ]
    }
   ],
   "source": [
    "mynb = NaiveBayes(X, y)\n",
    "print(mynb.predict(np.array([[2,2,120],[2,1,90]])))"
   ]
  },
  {
   "cell_type": "code",
   "execution_count": null,
   "metadata": {},
   "outputs": [],
   "source": []
  },
  {
   "cell_type": "code",
   "execution_count": null,
   "metadata": {},
   "outputs": [],
   "source": []
  },
  {
   "cell_type": "code",
   "execution_count": null,
   "metadata": {},
   "outputs": [],
   "source": []
  },
  {
   "cell_type": "code",
   "execution_count": null,
   "metadata": {},
   "outputs": [],
   "source": []
  }
 ],
 "metadata": {
  "kernelspec": {
   "display_name": "Python 3",
   "language": "python",
   "name": "python3"
  },
  "language_info": {
   "codemirror_mode": {
    "name": "ipython",
    "version": 3
   },
   "file_extension": ".py",
   "mimetype": "text/x-python",
   "name": "python",
   "nbconvert_exporter": "python",
   "pygments_lexer": "ipython3",
   "version": "3.5.2"
  }
 },
 "nbformat": 4,
 "nbformat_minor": 2
}
