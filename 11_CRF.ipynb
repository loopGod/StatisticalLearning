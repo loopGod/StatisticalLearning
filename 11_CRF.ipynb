{
 "cells": [
  {
   "cell_type": "markdown",
   "metadata": {},
   "source": [
    "# 第11章 CRF\n",
    "## By LiuGang - 2018/11/23\n",
    "## Reference Book - statistical learning method (Chinese)\n",
    "\n",
    "## No.1- problem for predicting<br>1:  Create some data"
   ]
  },
  {
   "cell_type": "code",
   "execution_count": 1,
   "metadata": {},
   "outputs": [],
   "source": [
    "import numpy as np\n",
    "import matplotlib.pyplot as plt\n",
    "import copy\n",
    "%matplotlib inline"
   ]
  },
  {
   "cell_type": "markdown",
   "metadata": {},
   "source": [
    "### 2: Class"
   ]
  },
  {
   "cell_type": "code",
   "execution_count": 1,
   "metadata": {},
   "outputs": [
    {
     "name": "stdout",
     "output_type": "stream",
     "text": [
      "最优状态路径为: [1. 4. 2. 4. 3. 2.]\n"
     ]
    }
   ],
   "source": [
    "import numpy as np\n",
    " \n",
    "class CRF(object):\n",
    "    '''实现条件随机场预测问题的维特比算法\n",
    "    '''\n",
    "    def __init__(self, V, VW, E, EW):\n",
    "        '''\n",
    "        :param V:是定义在节点上的特征函数，称为状态特征\n",
    "        :param VW:是V对应的权值\n",
    "        :param E:是定义在边上的特征函数，称为转移特征\n",
    "        :param EW:是E对应的权值\n",
    "        '''\n",
    "        self.V  = V  #点分布表\n",
    "        self.VW = VW #点权值表\n",
    "        self.E  = E  #边分布表\n",
    "        self.EW = EW #边权值表\n",
    "        self.D  = [] #Delta表，最大非规范化概率的局部状态路径概率\n",
    "        self.P  = [] #Psi表，当前状态和最优前导状态的索引表s\n",
    "        self.BP = [] #BestPath，最优路径\n",
    "        return \n",
    "        \n",
    "    def Viterbi(self):\n",
    "        '''\n",
    "        条件随机场预测问题的维特比算法，此算法一定要结合CRF参数化形式对应的状态路径图来理解，更容易理解.\n",
    "        '''\n",
    "        self.D = np.full(shape=(np.shape(self.V)), fill_value=.0)\n",
    "        self.P = np.full(shape=(np.shape(self.V)), fill_value=.0)\n",
    "        for i in range(np.shape(self.V)[0]):\n",
    "            #初始化\n",
    "            if 0 == i:\n",
    "                self.D[i] = np.multiply(self.V[i], self.VW[i])\n",
    "                self.P[i] = np.array([0,0,0,0])\n",
    "            #递推求解布局最优状态路径\n",
    "            else:\n",
    "                for y in range(np.shape(self.V)[1]): #delta[i][y=1,2...]\n",
    "                    for l in range(np.shape(self.V)[1]): #V[i-1][l=1,2...]\n",
    "                        #前导状态的最优状态路径的概率 + 前导状态到当前状体的转移概率 + 当前状态的概率\n",
    "                        delta = self.D[i-1, l] + self.E[i-1][l,y]*self.EW[i-1][l,y]  + self.V[i,y]*self.VW[i,y]            #\n",
    "                        if 0 == l or delta > self.D[i, y]:\n",
    "                            self.D[i, y], self.P[i, y] = delta, l        \n",
    "        #返回，得到所有的最优前导状态\n",
    "        N = np.shape(self.V)[0]\n",
    "        self.BP = np.full(shape=(N,), fill_value=0.0)\n",
    "        t_range = -1 * np.array(sorted(-1*np.arange(N)))\n",
    "        for t in t_range:\n",
    "            if N-1 == t:#得到最优状态\n",
    "                self.BP[t] = np.argmax(self.D[-1])\n",
    "            else: #得到最优前导状态\n",
    "                self.BP[t] = self.P[t+1, int(self.BP[t+1])]\n",
    "        \n",
    "        #最优状态路径表现在存储的是状态的下标，我们执行存储值+1转换成示例中的状态值\n",
    "        #也可以不用转换，只要你能理解，self.BP中存储的0是状态1就可以~~~~\n",
    "        self.BP += 1\n",
    "        return self.BP\n"
   ]
  },
  {
   "cell_type": "code",
   "execution_count": 11,
   "metadata": {},
   "outputs": [
    {
     "name": "stdout",
     "output_type": "stream",
     "text": [
      "最优状态路径为: [1. 4. 2. 4. 2. 1.]\n"
     ]
    }
   ],
   "source": [
    "S = np.array([[1,0,0,1],    # X = '我 不 是 外 国 人'\n",
    "              [1,0,0,1],  \n",
    "              [1,1,0,0],\n",
    "              [0,1,0,1],\n",
    "              [0,1,1,1],\n",
    "              [1,1,0,0]])  \n",
    "SW = np.array([[1,0,0,1],   \n",
    "               [1,0,0,1],  \n",
    "               [1,1,0,0],\n",
    "               [0,1,0,1],\n",
    "               [1,1,0,0],\n",
    "               [1,1,0,0]]) \n",
    "E = np.array([[[0,0,0,1], \n",
    "               [1,0,0,1],\n",
    "               [0,1,1,0],\n",
    "               [0,1,1,0]],\n",
    "              [[0,0,0,1], \n",
    "               [1,0,0,1],\n",
    "               [0,1,1,0],\n",
    "               [0,1,1,0]],\n",
    "              [[0,0,0,1], \n",
    "               [1,0,0,1],\n",
    "               [0,1,1,0],\n",
    "               [0,1,1,0]],\n",
    "              [[0,0,0,1], \n",
    "               [1,0,0,1],\n",
    "               [0,1,1,0],\n",
    "               [0,1,1,0]],\n",
    "              [[0,0,0,1], \n",
    "               [1,0,0,1],\n",
    "               [0,1,1,0],\n",
    "               [0,1,1,0]]])\n",
    "EW = np.array([[[0.3,0,0,0.7], \n",
    "                [0.4,0,0,0.6],\n",
    "                [0,0.7,0.3,0],\n",
    "                [0,0.6,0.4,0]],\n",
    "               [[0.3,0,0,0.7], \n",
    "                [0.4,0,0,0.6],\n",
    "                [0,0.7,0.3,0],\n",
    "                [0,0.6,0.4,0]],\n",
    "               [[0.3,0,0,0.7], \n",
    "                [0.4,0,0,0.6],\n",
    "                [0,0.7,0.3,0],\n",
    "                [0,0.6,0.4,0]],\n",
    "               [[0.3,0,0,0.7], \n",
    "                [0.4,0,0,0.6],\n",
    "                [0,0.7,0.3,0],\n",
    "                [0,0.6,0.4,0]],\n",
    "               [[0.3,0,0,0.7], \n",
    "                [0.4,0,0,0.6],\n",
    "                [0,0.7,0.3,0],\n",
    "                [0,0.6,0.4,0]]])\n",
    "\n",
    "crf = CRF(S, SW, E, EW)\n",
    "ret = crf.Viterbi()\n",
    "print('最优状态路径为:', ret)\n",
    "# 1-S, 2-E, 3-M, 4-B"
   ]
  },
  {
   "cell_type": "code",
   "execution_count": null,
   "metadata": {},
   "outputs": [],
   "source": []
  },
  {
   "cell_type": "code",
   "execution_count": null,
   "metadata": {},
   "outputs": [],
   "source": []
  },
  {
   "cell_type": "code",
   "execution_count": null,
   "metadata": {},
   "outputs": [],
   "source": []
  },
  {
   "cell_type": "code",
   "execution_count": null,
   "metadata": {},
   "outputs": [],
   "source": []
  },
  {
   "cell_type": "code",
   "execution_count": null,
   "metadata": {},
   "outputs": [],
   "source": []
  },
  {
   "cell_type": "code",
   "execution_count": null,
   "metadata": {},
   "outputs": [],
   "source": []
  },
  {
   "cell_type": "code",
   "execution_count": null,
   "metadata": {},
   "outputs": [],
   "source": []
  }
 ],
 "metadata": {
  "kernelspec": {
   "display_name": "Python 3",
   "language": "python",
   "name": "python3"
  },
  "language_info": {
   "codemirror_mode": {
    "name": "ipython",
    "version": 3
   },
   "file_extension": ".py",
   "mimetype": "text/x-python",
   "name": "python",
   "nbconvert_exporter": "python",
   "pygments_lexer": "ipython3",
   "version": "3.5.2"
  }
 },
 "nbformat": 4,
 "nbformat_minor": 2
}
