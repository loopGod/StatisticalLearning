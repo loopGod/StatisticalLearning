{
 "cells": [
  {
   "cell_type": "markdown",
   "metadata": {},
   "source": [
    "# 第10章 HMM\n",
    "## By LiuGang - 2018/11/22\n",
    "## Reference Book - statistical learning method (Chinese)\n",
    "\n",
    "## No.1- problem for predicting<br>1:  Create some data"
   ]
  },
  {
   "cell_type": "code",
   "execution_count": 1,
   "metadata": {},
   "outputs": [],
   "source": [
    "import numpy as np\n",
    "import matplotlib.pyplot as plt\n",
    "import copy\n",
    "%matplotlib inline\n",
    "\n",
    "# lamta = (A, B, Pai)\n",
    "A = np.array([[0.5,0.2,0.3],\n",
    "              [0.3,0.5,0.2],\n",
    "              [0.2,0.3,0.5]])\n",
    "\n",
    "B = np.array([[0.5,0.5],\n",
    "              [0.4,0.6],\n",
    "              [0.7,0.3]])\n",
    "\n",
    "pai = np.array([0.2,0.4,0.4])"
   ]
  },
  {
   "cell_type": "markdown",
   "metadata": {},
   "source": [
    "### 2: Class"
   ]
  },
  {
   "cell_type": "code",
   "execution_count": 417,
   "metadata": {},
   "outputs": [],
   "source": [
    "class HMM():\n",
    "    def __init__(self,):\n",
    "        pass\n",
    "    \n",
    "    def __init_decode__(self, A, B, pai, O):\n",
    "        self.A = A\n",
    "        self.B = B\n",
    "        self.pai = pai\n",
    "        self.O = O\n",
    "        self.T = len(self.O)\n",
    "        self.N = len(self.A)\n",
    "        self.delta = np.zeros((self.T,self.N))\n",
    "        self.phi = np.zeros((self.T,self.N))\n",
    "        \n",
    "    \n",
    "    def decode(self, A, B, pai, O):\n",
    "        # step 1 initial\n",
    "        self.__init_decode__(A, B, pai, O)\n",
    "        self.delta[0] = self.pai * self.B[:,self.O[0]]\n",
    "        self.phi[0] = self.phi[0] * 0\n",
    "        # step 2 recurrence\n",
    "        for t in range(1,self.T):\n",
    "            for i in range(self.N):\n",
    "                #print(np.max(self.delta[t-1] * self.A[:,i]), self.B[i,self.O[t]])\n",
    "                self.delta[t][i] = np.max(self.delta[t-1] * self.A[:,i]) * self.B[i,self.O[t]]\n",
    "                self.phi[t][i] = np.argmax(self.delta[t-1] * self.A[:,i])\n",
    "        # step 3 stop\n",
    "        Px = np.max(self.delta[self.T-1])\n",
    "        ix = int(np.argmax(self.delta[self.T-1]))\n",
    "        # step 4 backtracking\n",
    "        Ix = [ix]\n",
    "        for t in range(self.T-1)[::-1]:\n",
    "            ix = int(self.phi[t+1][ix])\n",
    "            Ix.append(ix)\n",
    "        return Ix[::-1]\n",
    "    \n",
    "    def forward(self, A, B, pai, O):\n",
    "        T = len(O)\n",
    "        N = len(A)\n",
    "        alpha = np.zeros((T, N))\n",
    "        alpha[0] = pai[0] * B[:,O[0]]\n",
    "        for t in range(T-1):\n",
    "            for i in range(N):\n",
    "                alpha[t+1][i] = np.dot(alpha[t], A[:,i]) * B[i][O[t+1]]\n",
    "        return alpha.T\n",
    "    \n",
    "    def backward(self, A, B, pai, O):\n",
    "        T = len(O)\n",
    "        N = len(A)\n",
    "        beta = np.zeros((T, N))\n",
    "        beta[T-1] = 1\n",
    "        for t in range(T-1)[::-1]:\n",
    "            for i in range(N):\n",
    "                beta[t][i] =np.dot(A[i] * B[:,O[t+1]] , np.array([beta[t+1]]).T)\n",
    "        return beta.T\n",
    "        \n",
    "    def learning(self, O, A, B, pai, eposilon=0.05):\n",
    "        \"\"\"Baum-Weich算法\"\"\"\n",
    "#         A = np.random.rand(2,2)\n",
    "#         pai = np.random.rand(2)\n",
    "#         B = np.random.rand(2,3)\n",
    "        N = A.shape[0]\n",
    "        T = len(O)\n",
    "        \n",
    "        while True:\n",
    "            alpha = self.forward(A,B,pai,O)\n",
    "            beta = self.backward(A,B,pai,O)\n",
    "            \n",
    "            kesi = np.zeros((N,N,T-1))\n",
    "            for t in range(T-1):\n",
    "                down = np.dot(np.dot(alpha[:,t].T, A) * B[:,O[t+1]].T, beta[:,t+1])\n",
    "                for i in range(N):\n",
    "                    up = alpha[i,t] * A[i,:] * B[:,O[t+1]].T * beta[:,t+1].T\n",
    "                    kesi[i,:,t] = up / down\n",
    "                    \n",
    "            gamma = np.zeros((N, T))\n",
    "            for t in range(T):\n",
    "                gamma[:,t] = (alpha[:,t] * beta[:,t]) / np.dot(alpha[:,t],np.array([beta[:,t]]).T)\n",
    "\n",
    "            newpai = gamma[:,0]\n",
    "            newA = np.sum(kesi,2) / np.sum(gamma[:,:-1],axis=1).reshape((-1,1))\n",
    "            newB = np.copy(B)\n",
    "            num_levels = B.shape[1]\n",
    "            sumgamma = np.sum(gamma,axis=1)\n",
    "            for lev in range(num_levels):\n",
    "                mask = O == lev\n",
    "                newB[:,lev] = np.sum(gamma[:,mask],axis=1) / sumgamma\n",
    "\n",
    "            # 阈值 stop\n",
    "            if np.max(abs(pai - newpai)) < eposilon and \\\n",
    "                            np.max(abs(A - newA)) < eposilon and \\\n",
    "                            np.max(abs(B - newB)) < eposilon:\n",
    "                break\n",
    "            A, B, pai = newA, newB, newpai\n",
    "        return newA, newB, newpai\n",
    "            \n",
    "            "
   ]
  },
  {
   "cell_type": "markdown",
   "metadata": {},
   "source": [
    "### 3. Test"
   ]
  },
  {
   "cell_type": "code",
   "execution_count": 43,
   "metadata": {},
   "outputs": [
    {
     "data": {
      "text/plain": [
       "[2, 2, 2]"
      ]
     },
     "execution_count": 43,
     "metadata": {},
     "output_type": "execute_result"
    }
   ],
   "source": [
    "# I : [0,1,2]    ([1,2,3] in book)\n",
    "# O : 0=red; 1=white\n",
    "O = [0,1,0]\n",
    "myhmm = HMM()\n",
    "myhmm.decode(A,B,pai,O)"
   ]
  },
  {
   "cell_type": "code",
   "execution_count": null,
   "metadata": {},
   "outputs": [],
   "source": []
  },
  {
   "cell_type": "code",
   "execution_count": null,
   "metadata": {},
   "outputs": [],
   "source": []
  },
  {
   "cell_type": "code",
   "execution_count": null,
   "metadata": {},
   "outputs": [],
   "source": []
  },
  {
   "cell_type": "markdown",
   "metadata": {},
   "source": [
    "## No.2- problem for learning<br>1:  Create some data"
   ]
  },
  {
   "cell_type": "code",
   "execution_count": 418,
   "metadata": {},
   "outputs": [
    {
     "name": "stdout",
     "output_type": "stream",
     "text": [
      "观测:  [0 2 2 2 2 0 0 2 2 2 2 2 2 1 1 0 0 0 1 0 2 0 0 2 2 0 0 2 0 2 0 1 1 1 0 0 1\n",
      " 1 2 2 2 1 2 2 2 1 1 1 2 0 2 0 1 1 0 2 0 0 2 2 0 2 1 2 2 0 1 0 1 2 0 0 1 0\n",
      " 1 0 0 2 2 2 1 2 1 2 1 2 0 1 0 0 0 0 1 2 1 2 2 0 1 2 1 0 1 2 0 1 1 1 1 1 2\n",
      " 2 2 1 0 0 0 1 1 1 2 1 0 2 2 2 1 0 1 0 0 0 1 1 0 0 0 1 2 1 2 2 1 1 0 0 1 0\n",
      " 0 1 0 0 1 2 1 2 0 0 2 0 1 2 2 2 2 2 1 0 1 2 2 1 1 1 2 1 1 2 0 1 1 2 2 0 2\n",
      " 2 0 0 1 0 1 2 1 2 2 2 2 0 0 2 1 0 0 2 2 2 0 2 0 0 1 1 1 2 2 0 0 2 0 0 0 0\n",
      " 1 2 1 1 1 2 0 0 0 1 1 1 1 2 2 2 1 2 2 2 2 0 1 0 0 0 1 2 2 2 2 2 2 2 1 0 0\n",
      " 0 0 2 2 2 1 1 0 2 0 1 1 1 1 0 2 0 1 0 2 1 2 2 2 0 1 0 1 1 1 1 0 0 1 1 2 0\n",
      " 2 2 1 0 1 0 0 2 2 2 0 2 0 1 1 0 2 1 0 2 1 1 2 0 0 2 2 0 0 2 2 1 2 1 2 1 1\n",
      " 2 2 1 2 0 1 2 2 0 1 0 0 1 1 1 0 2 1 2 2 1 1 0 0 1 0 0 0 2 1 0 1 1 0 1 1 0\n",
      " 1 0 0 1 1 1 0 1 1 1 1 1 0 0 2 1 1 1 1 0 0 0 1 0 1 2 0 2 2 1 0 0 2 2 0 0 2\n",
      " 1 1 0 2 1 2 2 1 1 2 2 1 0 0 1 2 0 0 0 1 0 0 0 0 1 1 1 2 2 0 1 1 1 2 0 0 0\n",
      " 0 1 2 0 1 0 2 2 2 0 0 1 0 2 1 0 2 1 1 2 2 2 1 0 1 1 0 2 2 2 2 0 1 2 2 1 2\n",
      " 0 1 0 0 1 1 0 0 0 1 0 1 2 1 0 0 2 2 1 1 2 2 0 2 0 1 1 1 2 2 2 1 0 1 1 1 2\n",
      " 1 2 0 1 2 2 1 0 1 2 1 2 2 0 1 2 2 2 1 2 2 2 2 1 2 0 1 2 2 2 2 1 2 2 2 1 2\n",
      " 1 0 1 0 0 2 2 0 1 1 2 1 0 2 2 0 2 2 2 2 2 0 0 2 1 0 0 2 2 1 2 2 0 2 1 2 1\n",
      " 0 1 0 0 2 0 1 2]\n",
      "状态:  [0 1 1 1 1 0 0 1 1 1 1 1 1 0 0 0 1 0 1 1 1 0 0 1 0 0 0 1 0 0 0 1 1 0 0 0 0\n",
      " 1 1 1 1 1 1 1 1 1 0 0 0 0 1 0 1 1 0 1 0 0 1 1 0 1 1 1 1 0 0 0 0 0 0 0 1 0\n",
      " 0 0 0 0 1 0 0 1 0 1 1 1 0 1 0 0 1 1 1 1 1 1 1 0 1 1 0 0 1 1 0 0 0 0 0 0 1\n",
      " 1 1 1 0 0 0 0 0 0 1 0 0 1 0 1 0 1 1 0 0 1 0 0 0 0 0 0 1 0 1 1 0 0 0 0 1 0\n",
      " 0 0 0 0 0 0 0 1 0 0 1 1 1 1 1 0 1 1 1 0 1 1 1 1 1 0 1 1 1 1 0 0 0 1 1 0 1\n",
      " 1 0 0 0 0 0 1 1 1 1 1 1 0 0 1 0 0 1 1 1 1 0 1 0 0 0 0 1 1 1 0 0 1 0 0 0 0\n",
      " 0 1 1 0 1 1 0 0 0 1 1 1 1 0 1 1 0 1 1 1 1 0 0 0 0 0 0 1 1 1 1 1 1 0 0 0 0\n",
      " 0 0 1 1 1 0 0 0 1 0 0 0 0 0 0 1 0 0 0 0 1 1 1 1 0 0 0 0 1 0 0 0 0 0 0 1 1\n",
      " 1 1 0 0 0 0 0 1 1 1 0 0 0 0 1 0 1 1 0 1 0 0 1 0 0 0 1 0 0 1 1 1 1 0 1 0 0\n",
      " 1 1 0 1 0 0 1 1 0 0 0 0 0 0 0 0 1 1 0 1 0 0 0 0 0 0 0 0 1 0 0 0 0 0 0 0 0\n",
      " 0 0 0 0 0 0 0 0 0 1 0 0 0 0 0 1 0 0 0 0 0 0 0 1 1 1 1 1 1 1 0 0 1 1 0 0 0\n",
      " 0 0 0 0 1 0 1 0 1 1 1 1 0 0 1 1 0 0 0 0 0 0 0 0 0 0 1 1 1 0 0 1 0 0 0 0 0\n",
      " 0 1 0 0 0 0 1 1 1 1 0 0 0 0 0 0 1 0 0 0 1 1 1 0 0 1 0 1 1 1 1 0 0 0 0 1 0\n",
      " 0 0 0 1 1 0 0 0 0 0 0 0 1 0 0 0 1 1 1 1 1 1 0 0 0 0 1 1 1 1 0 0 0 0 0 0 0\n",
      " 0 1 0 1 1 1 1 0 1 1 0 0 0 1 1 1 1 1 0 0 0 1 1 1 1 1 1 1 1 0 0 0 1 1 1 0 1\n",
      " 0 0 0 0 0 1 0 0 1 0 1 0 0 1 1 1 1 1 1 1 1 0 0 0 0 0 0 1 1 1 1 1 0 1 1 1 0\n",
      " 0 0 0 0 0 0 1 1]\n"
     ]
    }
   ],
   "source": [
    "import numpy as np\n",
    "# 对应状态集合Q\n",
    "states = ('Healthy', 'Fever')\n",
    "# 对应观测集合V\n",
    "observations = ('normal', 'cold', 'dizzy')\n",
    "# 初始状态概率向量π\n",
    "start_probability = {'Healthy': 0.6, 'Fever': 0.4}\n",
    "pai = np.array([0.6, 0.4])\n",
    "# 状态转移矩阵A\n",
    "transition_probability = {\n",
    "    'Healthy': {'Healthy': 0.7, 'Fever': 0.3},\n",
    "    'Fever': {'Healthy': 0.4, 'Fever': 0.6},\n",
    "}\n",
    "A = np.array([[0.7,0.3],[0.4,0.6]])\n",
    "# 观测概率矩阵B\n",
    "emission_probability = {\n",
    "    'Healthy': {'normal': 0.5, 'cold': 0.4, 'dizzy': 0.1},\n",
    "    'Fever': {'normal': 0.1, 'cold': 0.3, 'dizzy': 0.6},\n",
    "}\n",
    "B = np.array([[0.5, 0.4, 0.1],[0.1, 0.3, 0.6]])\n",
    "# 随机生成观测序列和状态序列    \n",
    "def simulate(T):\n",
    "\n",
    "    def draw_from(probs):\n",
    "        return np.where(np.random.multinomial(1,probs) == 1)[0][0]\n",
    "\n",
    "    observations = np.zeros(T, dtype=int)\n",
    "    states = np.zeros(T, dtype=int)\n",
    "    states[0] = draw_from(pi)\n",
    "    observations[0] = draw_from(B[states[0],:])\n",
    "    for t in range(1, T):\n",
    "        states[t] = draw_from(A[states[t-1],:])\n",
    "        observations[t] = draw_from(B[states[t],:])\n",
    "    return observations, states\n",
    "\n",
    "# 生成模拟数据\n",
    "observations_data, states_data = simulate(600)\n",
    "print('观测: ',observations_data)\n",
    "print('状态: ',states_data)"
   ]
  },
  {
   "cell_type": "code",
   "execution_count": 420,
   "metadata": {},
   "outputs": [
    {
     "name": "stdout",
     "output_type": "stream",
     "text": [
      "newA:  [[0.69440988 0.30559012]\n",
      " [0.35969474 0.64030526]]\n",
      "newB:  [[0.50694641 0.38927474 0.10377885]\n",
      " [0.08830953 0.25999599 0.65169448]]\n",
      "newpi:  [0.75895999 0.24104001]\n"
     ]
    }
   ],
   "source": [
    "myhmm = HMM()\n",
    "# A = np.array([[0.1,0.1],[0.1,0.1]])\n",
    "# pai = np.array([0.1, 0.1])\n",
    "# B = np.array([[0.1, 0.1, 0.1],[0.1, 0.1, 0.1]])\n",
    "#参数的初值影响很大，如果随机初值的话，结果偏差较大\n",
    "newA, newB, newpai = myhmm.learning(observations_data, A, B, pai, eposilon=0.02)\n",
    "print(\"newA: \", newA)\n",
    "print(\"newB: \", newB)\n",
    "print(\"newpi: \", newpai)"
   ]
  },
  {
   "cell_type": "code",
   "execution_count": null,
   "metadata": {},
   "outputs": [],
   "source": []
  },
  {
   "cell_type": "code",
   "execution_count": null,
   "metadata": {},
   "outputs": [],
   "source": []
  }
 ],
 "metadata": {
  "kernelspec": {
   "display_name": "Python 3",
   "language": "python",
   "name": "python3"
  },
  "language_info": {
   "codemirror_mode": {
    "name": "ipython",
    "version": 3
   },
   "file_extension": ".py",
   "mimetype": "text/x-python",
   "name": "python",
   "nbconvert_exporter": "python",
   "pygments_lexer": "ipython3",
   "version": "3.5.2"
  }
 },
 "nbformat": 4,
 "nbformat_minor": 2
}
