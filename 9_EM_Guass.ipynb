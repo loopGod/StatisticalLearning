{
 "cells": [
  {
   "cell_type": "markdown",
   "metadata": {},
   "source": [
    "# 第9章 EM_Guass\n",
    "## By LiuGang - 2018/11/22\n",
    "## Reference Book - statistical learning method (Chinese)\n",
    "\n",
    "### 1:  Create some data"
   ]
  },
  {
   "cell_type": "code",
   "execution_count": 102,
   "metadata": {},
   "outputs": [],
   "source": [
    "import numpy as np\n",
    "import matplotlib.pyplot as plt\n",
    "import copy\n",
    "%matplotlib inline\n",
    "\n",
    "alpha = np.array([1,1])  # a1=a2=0.5\n",
    "Sigma = np.array([4,6]) # Sigma1=Sigma2=6\n",
    "Mu1 = 40\n",
    "Mu2 = 20\n",
    "X = np.zeros((1,20000))\n",
    "N = len(X[0])\n",
    "for i in range(0, N):\n",
    "    if np.random.random(1) > 0.5:\n",
    "        X[0,i] = np.random.normal()*Sigma[0] + Mu1\n",
    "    else:\n",
    "        X[0,i] = np.random.normal()*Sigma[1] + Mu2"
   ]
  },
  {
   "cell_type": "code",
   "execution_count": null,
   "metadata": {},
   "outputs": [],
   "source": []
  },
  {
   "cell_type": "markdown",
   "metadata": {},
   "source": [
    "### 2: Class"
   ]
  },
  {
   "cell_type": "code",
   "execution_count": 104,
   "metadata": {},
   "outputs": [],
   "source": [
    "class EM():\n",
    "    def __init__(self, X, k, eposilon):\n",
    "        self.X = X\n",
    "        self.N = len(X[0])\n",
    "        self.K = k\n",
    "        self.Mul = np.random.random(2)\n",
    "        self.gama = np.zeros((self.N, self.K))\n",
    "        self.eposilon = eposilon\n",
    "        self.result = {}\n",
    "        # \n",
    "        self.alpha = np.random.random(2)  # a1=a2=1\n",
    "        self.Sigma = np.random.random(2) # Sigma1=Sigma2=6\n",
    "        \n",
    "    def E(self):\n",
    "        tmp = self.gama\n",
    "        for j in range(self.N):\n",
    "            for k in range(self.K):\n",
    "                tmp[j, k] = self.alpha[k]*(1/(2*np.pi*self.Sigma[k])**0.5)*(np.exp(-((X[0,j]-self.Mul[k])**2)/(2*Sigma[k])))\n",
    "        self.gama = tmp  / np.sum(tmp, axis=1)[np.newaxis,:].T\n",
    "        \n",
    "    def M(self, is_mul=False, is_sigma=False, is_alpha=False):\n",
    "        if is_sigma:\n",
    "            for i in range(self.K):\n",
    "                self.Sigma[i] = np.dot(self.gama[:,i], ((self.X[0]-self.Mul[i])**2)[np.newaxis,:].T)/np.sum(self.gama,axis=0)[i]\n",
    "            self.result['Sigma'] = self.Sigma\n",
    "            \n",
    "        if is_mul:\n",
    "            for i in range(self.K):\n",
    "                self.Mul[i] = np.dot(self.gama[:,i], self.X.T)/np.sum(self.gama,axis=0)[i]\n",
    "            self.result['mul'] = self.Mul\n",
    "\n",
    "        if is_alpha:\n",
    "            self.result['alpha'] = np.sum(self.gama,axis=0)/self.N\n",
    "                \n",
    "    \n",
    "    def get_params(self, epoch):\n",
    "        for i in range(epoch):\n",
    "            last_mul = copy.deepcopy(self.Mul)\n",
    "            last_sigma = copy.deepcopy(self.Sigma)\n",
    "            self.E()\n",
    "            self.M(is_mul=True, is_alpha=True, is_sigma=True)\n",
    "            if np.sum(abs(self.Mul-last_mul))+np.sum(abs(self.Sigma-last_sigma)) < self.eposilon:\n",
    "                print(self.result)\n",
    "                return self.result\n",
    "        print(self.result)\n",
    "        return self.result\n",
    "            \n",
    "        "
   ]
  },
  {
   "cell_type": "markdown",
   "metadata": {},
   "source": [
    "## 3: Test"
   ]
  },
  {
   "cell_type": "code",
   "execution_count": 105,
   "metadata": {},
   "outputs": [
    {
     "name": "stdout",
     "output_type": "stream",
     "text": [
      "{'mul': array([18.46684439, 38.43215877]), 'alpha': array([0.42609709, 0.57390291]), 'Sigma': array([24.41426895, 29.84210203])}\n"
     ]
    },
    {
     "data": {
      "text/plain": [
       "{'Sigma': array([24.41426895, 29.84210203]),\n",
       " 'alpha': array([0.42609709, 0.57390291]),\n",
       " 'mul': array([18.46684439, 38.43215877])}"
      ]
     },
     "execution_count": 105,
     "metadata": {},
     "output_type": "execute_result"
    }
   ],
   "source": [
    "myEM = EM(X, 2, 0.0001)\n",
    "myEM.get_params(100000)"
   ]
  },
  {
   "cell_type": "markdown",
   "metadata": {},
   "source": [
    "## question:<br>why are not the Sigmas accurate???"
   ]
  },
  {
   "cell_type": "code",
   "execution_count": null,
   "metadata": {},
   "outputs": [],
   "source": []
  },
  {
   "cell_type": "code",
   "execution_count": null,
   "metadata": {},
   "outputs": [],
   "source": []
  }
 ],
 "metadata": {
  "kernelspec": {
   "display_name": "Python 3",
   "language": "python",
   "name": "python3"
  },
  "language_info": {
   "codemirror_mode": {
    "name": "ipython",
    "version": 3
   },
   "file_extension": ".py",
   "mimetype": "text/x-python",
   "name": "python",
   "nbconvert_exporter": "python",
   "pygments_lexer": "ipython3",
   "version": "3.5.2"
  }
 },
 "nbformat": 4,
 "nbformat_minor": 2
}
