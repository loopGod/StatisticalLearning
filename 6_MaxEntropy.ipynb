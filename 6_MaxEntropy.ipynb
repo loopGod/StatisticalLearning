{
 "cells": [
  {
   "cell_type": "markdown",
   "metadata": {},
   "source": [
    "# 第6章 MaxEntropy\n",
    "## By LiuGang - 2018/11/16\n",
    "## Reference Book - statistical learning method (Chinese)\n",
    "\n",
    "### 1:  Create some data"
   ]
  },
  {
   "cell_type": "code",
   "execution_count": 99,
   "metadata": {},
   "outputs": [],
   "source": [
    "import numpy as np\n",
    "# X = np.array([[1,2],[2,2],[3,1],[5,-0.5],[1,1],[2,0],[0.5,1],[-1,2]])\n",
    "# y = np.array([1,1,1,1,0,0,0,0])\n",
    "\n",
    "np.random.seed(5)\n",
    "X = np.random.randint(1,1000,size=(1000, 20))\n",
    "y = np.array([1 if i%2==0 else 0 for i in range(1000)])"
   ]
  },
  {
   "cell_type": "markdown",
   "metadata": {},
   "source": [
    "### 2: Class"
   ]
  },
  {
   "cell_type": "code",
   "execution_count": 103,
   "metadata": {},
   "outputs": [],
   "source": [
    "class MaxEntropy():\n",
    "    def __init__(self, X, y, M):\n",
    "        self.X = X\n",
    "        self.y = y\n",
    "        self.N = len(self.X)\n",
    "        self.M = M  # 0.001\n",
    "        self.build_xy_num()\n",
    "\n",
    "    def build_xy_num(self):\n",
    "        self.xy2id = {}\n",
    "        self.id2xy = {}\n",
    "        num = 0\n",
    "        for i in range(self.N):\n",
    "            for j in range(len(X[i])):\n",
    "                if (X[i][j], self.y[i]) not in self.xy2id:\n",
    "                    self.id2xy[num] = (X[i][j], self.y[i])\n",
    "                    self.xy2id[(X[i][j], self.y[i])] = num\n",
    "                    num += 1\n",
    "        self.nn = num\n",
    "        self.w = np.squeeze(np.zeros((1,self.nn)))\n",
    "        #self.Epx = np.squeeze(np.zeros((1,self.nn)))\n",
    "        #self.Epyx = np.squeeze(np.zeros((1,self.nn)))\n",
    "        \n",
    "    def get_pyix(self, x, yi):\n",
    "        w = 0\n",
    "        for xi in x:\n",
    "            if (xi, yi) in self.xy2id:\n",
    "                w += self.w[self.xy2id[(xi, yi)]]\n",
    "        return np.exp(w)\n",
    "    \n",
    "    def get_pyx(self, x, y):\n",
    "        pyx = []\n",
    "        for yi in set(y):\n",
    "            pyx.append((self.get_pyix(x, yi), yi))\n",
    "        return pyx\n",
    "    \n",
    "    def get_x_prob(self, x):\n",
    "        pyx = self.get_pyx(x, self.y)\n",
    "        Z = sum([py[0] for py in pyx])\n",
    "        return [(py[0]/Z, py[1]) for py in pyx]\n",
    "    \n",
    "    def get_Epx(self):\n",
    "        Epx = np.squeeze(np.zeros((1, self.nn)))\n",
    "        for x in self.X:\n",
    "            pyx_p_y = self.get_x_prob(x)\n",
    "            for pyx_prob, yi in pyx_p_y:\n",
    "                for xi in x:\n",
    "                    #if (float(xi), float(yi)) in self.xy2id:\n",
    "                    #print(yi)\n",
    "                    if (xi, yi) in self.xy2id:\n",
    "                        Epx[self.xy2id[(xi, yi)]] += pyx_prob / self.N\n",
    "        return Epx\n",
    "    \n",
    "    def get_Epyx(self):\n",
    "        Epyx = np.squeeze(np.zeros((1, self.nn)))\n",
    "        for i,x in enumerate(self.X):\n",
    "            yi = self.y[i]\n",
    "            for xi in x:\n",
    "                if (xi, yi) in self.xy2id:\n",
    "                    Epyx[self.xy2id[(xi, yi)]] += 1 / self.N\n",
    "        return Epyx\n",
    "    \n",
    "    def train(self, epoch=10,scope=1):\n",
    "        Epyx = self.get_Epyx()\n",
    "        for i in range(epoch):\n",
    "            Epx = self.get_Epx()\n",
    "            delta_sigma = self.M*np.log(Epyx / Epx)\n",
    "            self.w = self.w + delta_sigma\n",
    "            pred = np.array(self.predict(self.X))\n",
    "            diff = self.y - pred\n",
    "            accuray = len(diff[diff==0])/len(self.y)\n",
    "            if i % scope ==0:\n",
    "                print('----training accuracy:'+str(accuray)+'----' )\n",
    "    \n",
    "    def predict(self, xdata):\n",
    "        pred = []\n",
    "        for data in xdata:\n",
    "            predi = max(self.get_x_prob(data), key = lambda x:x[0])[1]\n",
    "            pred.append(predi)\n",
    "        return pred\n",
    "    \n",
    "    \n",
    "            \n",
    "    \n",
    "    "
   ]
  },
  {
   "cell_type": "code",
   "execution_count": 104,
   "metadata": {},
   "outputs": [
    {
     "name": "stdout",
     "output_type": "stream",
     "text": [
      "----training accuracy:0.862----\n",
      "----training accuracy:0.868----\n",
      "----training accuracy:0.874----\n",
      "----training accuracy:0.889----\n",
      "----training accuracy:0.899----\n",
      "----training accuracy:0.911----\n",
      "----training accuracy:0.917----\n",
      "----training accuracy:0.928----\n",
      "----training accuracy:0.932----\n",
      "----training accuracy:0.936----\n",
      "----training accuracy:0.938----\n",
      "----training accuracy:0.943----\n",
      "----training accuracy:0.945----\n",
      "----training accuracy:0.948----\n",
      "----training accuracy:0.953----\n",
      "----training accuracy:0.956----\n",
      "----training accuracy:0.962----\n",
      "----training accuracy:0.967----\n",
      "----training accuracy:0.969----\n",
      "----training accuracy:0.973----\n",
      "----training accuracy:0.974----\n",
      "----training accuracy:0.975----\n",
      "----training accuracy:0.976----\n",
      "----training accuracy:0.976----\n",
      "----training accuracy:0.979----\n",
      "----training accuracy:0.98----\n",
      "----training accuracy:0.98----\n",
      "----training accuracy:0.981----\n",
      "----training accuracy:0.982----\n",
      "----training accuracy:0.983----\n",
      "----training accuracy:0.983----\n",
      "----training accuracy:0.983----\n",
      "----training accuracy:0.983----\n",
      "----training accuracy:0.983----\n",
      "----training accuracy:0.984----\n",
      "----training accuracy:0.984----\n",
      "----training accuracy:0.985----\n",
      "----training accuracy:0.985----\n",
      "----training accuracy:0.987----\n",
      "----training accuracy:0.988----\n",
      "----training accuracy:0.989----\n",
      "----training accuracy:0.99----\n",
      "----training accuracy:0.991----\n",
      "----training accuracy:0.991----\n",
      "----training accuracy:0.992----\n",
      "----training accuracy:0.992----\n"
     ]
    },
    {
     "ename": "KeyboardInterrupt",
     "evalue": "",
     "output_type": "error",
     "traceback": [
      "\u001b[0;31m---------------------------------------------------------------------------\u001b[0m",
      "\u001b[0;31mKeyboardInterrupt\u001b[0m                         Traceback (most recent call last)",
      "\u001b[0;32m<ipython-input-104-a76adc9c274d>\u001b[0m in \u001b[0;36m<module>\u001b[0;34m()\u001b[0m\n\u001b[1;32m      1\u001b[0m \u001b[0mmyME\u001b[0m \u001b[0;34m=\u001b[0m \u001b[0mMaxEntropy\u001b[0m\u001b[0;34m(\u001b[0m\u001b[0mX\u001b[0m\u001b[0;34m,\u001b[0m \u001b[0my\u001b[0m\u001b[0;34m,\u001b[0m \u001b[0;36m0.01\u001b[0m\u001b[0;34m)\u001b[0m\u001b[0;34m\u001b[0m\u001b[0m\n\u001b[0;32m----> 2\u001b[0;31m \u001b[0mmyME\u001b[0m\u001b[0;34m.\u001b[0m\u001b[0mtrain\u001b[0m\u001b[0;34m(\u001b[0m\u001b[0mepoch\u001b[0m\u001b[0;34m=\u001b[0m\u001b[0;36m1000\u001b[0m\u001b[0;34m,\u001b[0m \u001b[0mscope\u001b[0m\u001b[0;34m=\u001b[0m\u001b[0;36m10\u001b[0m\u001b[0;34m)\u001b[0m\u001b[0;34m\u001b[0m\u001b[0m\n\u001b[0m",
      "\u001b[0;32m<ipython-input-103-65bc72a22ed9>\u001b[0m in \u001b[0;36mtrain\u001b[0;34m(self, epoch, scope)\u001b[0m\n\u001b[1;32m     64\u001b[0m         \u001b[0mEpyx\u001b[0m \u001b[0;34m=\u001b[0m \u001b[0mself\u001b[0m\u001b[0;34m.\u001b[0m\u001b[0mget_Epyx\u001b[0m\u001b[0;34m(\u001b[0m\u001b[0;34m)\u001b[0m\u001b[0;34m\u001b[0m\u001b[0m\n\u001b[1;32m     65\u001b[0m         \u001b[0;32mfor\u001b[0m \u001b[0mi\u001b[0m \u001b[0;32min\u001b[0m \u001b[0mrange\u001b[0m\u001b[0;34m(\u001b[0m\u001b[0mepoch\u001b[0m\u001b[0;34m)\u001b[0m\u001b[0;34m:\u001b[0m\u001b[0;34m\u001b[0m\u001b[0m\n\u001b[0;32m---> 66\u001b[0;31m             \u001b[0mEpx\u001b[0m \u001b[0;34m=\u001b[0m \u001b[0mself\u001b[0m\u001b[0;34m.\u001b[0m\u001b[0mget_Epx\u001b[0m\u001b[0;34m(\u001b[0m\u001b[0;34m)\u001b[0m\u001b[0;34m\u001b[0m\u001b[0m\n\u001b[0m\u001b[1;32m     67\u001b[0m             \u001b[0mdelta_sigma\u001b[0m \u001b[0;34m=\u001b[0m \u001b[0mself\u001b[0m\u001b[0;34m.\u001b[0m\u001b[0mM\u001b[0m\u001b[0;34m*\u001b[0m\u001b[0mnp\u001b[0m\u001b[0;34m.\u001b[0m\u001b[0mlog\u001b[0m\u001b[0;34m(\u001b[0m\u001b[0mEpyx\u001b[0m \u001b[0;34m/\u001b[0m \u001b[0mEpx\u001b[0m\u001b[0;34m)\u001b[0m\u001b[0;34m\u001b[0m\u001b[0m\n\u001b[1;32m     68\u001b[0m             \u001b[0mself\u001b[0m\u001b[0;34m.\u001b[0m\u001b[0mw\u001b[0m \u001b[0;34m=\u001b[0m \u001b[0mself\u001b[0m\u001b[0;34m.\u001b[0m\u001b[0mw\u001b[0m \u001b[0;34m+\u001b[0m \u001b[0mdelta_sigma\u001b[0m\u001b[0;34m\u001b[0m\u001b[0m\n",
      "\u001b[0;32m<ipython-input-103-65bc72a22ed9>\u001b[0m in \u001b[0;36mget_Epx\u001b[0;34m(self)\u001b[0m\n\u001b[1;32m     43\u001b[0m         \u001b[0mEpx\u001b[0m \u001b[0;34m=\u001b[0m \u001b[0mnp\u001b[0m\u001b[0;34m.\u001b[0m\u001b[0msqueeze\u001b[0m\u001b[0;34m(\u001b[0m\u001b[0mnp\u001b[0m\u001b[0;34m.\u001b[0m\u001b[0mzeros\u001b[0m\u001b[0;34m(\u001b[0m\u001b[0;34m(\u001b[0m\u001b[0;36m1\u001b[0m\u001b[0;34m,\u001b[0m \u001b[0mself\u001b[0m\u001b[0;34m.\u001b[0m\u001b[0mnn\u001b[0m\u001b[0;34m)\u001b[0m\u001b[0;34m)\u001b[0m\u001b[0;34m)\u001b[0m\u001b[0;34m\u001b[0m\u001b[0m\n\u001b[1;32m     44\u001b[0m         \u001b[0;32mfor\u001b[0m \u001b[0mx\u001b[0m \u001b[0;32min\u001b[0m \u001b[0mself\u001b[0m\u001b[0;34m.\u001b[0m\u001b[0mX\u001b[0m\u001b[0;34m:\u001b[0m\u001b[0;34m\u001b[0m\u001b[0m\n\u001b[0;32m---> 45\u001b[0;31m             \u001b[0mpyx_p_y\u001b[0m \u001b[0;34m=\u001b[0m \u001b[0mself\u001b[0m\u001b[0;34m.\u001b[0m\u001b[0mget_x_prob\u001b[0m\u001b[0;34m(\u001b[0m\u001b[0mx\u001b[0m\u001b[0;34m)\u001b[0m\u001b[0;34m\u001b[0m\u001b[0m\n\u001b[0m\u001b[1;32m     46\u001b[0m             \u001b[0;32mfor\u001b[0m \u001b[0mpyx_prob\u001b[0m\u001b[0;34m,\u001b[0m \u001b[0myi\u001b[0m \u001b[0;32min\u001b[0m \u001b[0mpyx_p_y\u001b[0m\u001b[0;34m:\u001b[0m\u001b[0;34m\u001b[0m\u001b[0m\n\u001b[1;32m     47\u001b[0m                 \u001b[0;32mfor\u001b[0m \u001b[0mxi\u001b[0m \u001b[0;32min\u001b[0m \u001b[0mx\u001b[0m\u001b[0;34m:\u001b[0m\u001b[0;34m\u001b[0m\u001b[0m\n",
      "\u001b[0;32m<ipython-input-103-65bc72a22ed9>\u001b[0m in \u001b[0;36mget_x_prob\u001b[0;34m(self, x)\u001b[0m\n\u001b[1;32m     36\u001b[0m \u001b[0;34m\u001b[0m\u001b[0m\n\u001b[1;32m     37\u001b[0m     \u001b[0;32mdef\u001b[0m \u001b[0mget_x_prob\u001b[0m\u001b[0;34m(\u001b[0m\u001b[0mself\u001b[0m\u001b[0;34m,\u001b[0m \u001b[0mx\u001b[0m\u001b[0;34m)\u001b[0m\u001b[0;34m:\u001b[0m\u001b[0;34m\u001b[0m\u001b[0m\n\u001b[0;32m---> 38\u001b[0;31m         \u001b[0mpyx\u001b[0m \u001b[0;34m=\u001b[0m \u001b[0mself\u001b[0m\u001b[0;34m.\u001b[0m\u001b[0mget_pyx\u001b[0m\u001b[0;34m(\u001b[0m\u001b[0mx\u001b[0m\u001b[0;34m,\u001b[0m \u001b[0mself\u001b[0m\u001b[0;34m.\u001b[0m\u001b[0my\u001b[0m\u001b[0;34m)\u001b[0m\u001b[0;34m\u001b[0m\u001b[0m\n\u001b[0m\u001b[1;32m     39\u001b[0m         \u001b[0mZ\u001b[0m \u001b[0;34m=\u001b[0m \u001b[0msum\u001b[0m\u001b[0;34m(\u001b[0m\u001b[0;34m[\u001b[0m\u001b[0mpy\u001b[0m\u001b[0;34m[\u001b[0m\u001b[0;36m0\u001b[0m\u001b[0;34m]\u001b[0m \u001b[0;32mfor\u001b[0m \u001b[0mpy\u001b[0m \u001b[0;32min\u001b[0m \u001b[0mpyx\u001b[0m\u001b[0;34m]\u001b[0m\u001b[0;34m)\u001b[0m\u001b[0;34m\u001b[0m\u001b[0m\n\u001b[1;32m     40\u001b[0m         \u001b[0;32mreturn\u001b[0m \u001b[0;34m[\u001b[0m\u001b[0;34m(\u001b[0m\u001b[0mpy\u001b[0m\u001b[0;34m[\u001b[0m\u001b[0;36m0\u001b[0m\u001b[0;34m]\u001b[0m\u001b[0;34m/\u001b[0m\u001b[0mZ\u001b[0m\u001b[0;34m,\u001b[0m \u001b[0mpy\u001b[0m\u001b[0;34m[\u001b[0m\u001b[0;36m1\u001b[0m\u001b[0;34m]\u001b[0m\u001b[0;34m)\u001b[0m \u001b[0;32mfor\u001b[0m \u001b[0mpy\u001b[0m \u001b[0;32min\u001b[0m \u001b[0mpyx\u001b[0m\u001b[0;34m]\u001b[0m\u001b[0;34m\u001b[0m\u001b[0m\n",
      "\u001b[0;32m<ipython-input-103-65bc72a22ed9>\u001b[0m in \u001b[0;36mget_pyx\u001b[0;34m(self, x, y)\u001b[0m\n\u001b[1;32m     32\u001b[0m         \u001b[0mpyx\u001b[0m \u001b[0;34m=\u001b[0m \u001b[0;34m[\u001b[0m\u001b[0;34m]\u001b[0m\u001b[0;34m\u001b[0m\u001b[0m\n\u001b[1;32m     33\u001b[0m         \u001b[0;32mfor\u001b[0m \u001b[0myi\u001b[0m \u001b[0;32min\u001b[0m \u001b[0mset\u001b[0m\u001b[0;34m(\u001b[0m\u001b[0my\u001b[0m\u001b[0;34m)\u001b[0m\u001b[0;34m:\u001b[0m\u001b[0;34m\u001b[0m\u001b[0m\n\u001b[0;32m---> 34\u001b[0;31m             \u001b[0mpyx\u001b[0m\u001b[0;34m.\u001b[0m\u001b[0mappend\u001b[0m\u001b[0;34m(\u001b[0m\u001b[0;34m(\u001b[0m\u001b[0mself\u001b[0m\u001b[0;34m.\u001b[0m\u001b[0mget_pyix\u001b[0m\u001b[0;34m(\u001b[0m\u001b[0mx\u001b[0m\u001b[0;34m,\u001b[0m \u001b[0myi\u001b[0m\u001b[0;34m)\u001b[0m\u001b[0;34m,\u001b[0m \u001b[0myi\u001b[0m\u001b[0;34m)\u001b[0m\u001b[0;34m)\u001b[0m\u001b[0;34m\u001b[0m\u001b[0m\n\u001b[0m\u001b[1;32m     35\u001b[0m         \u001b[0;32mreturn\u001b[0m \u001b[0mpyx\u001b[0m\u001b[0;34m\u001b[0m\u001b[0m\n\u001b[1;32m     36\u001b[0m \u001b[0;34m\u001b[0m\u001b[0m\n",
      "\u001b[0;32m<ipython-input-103-65bc72a22ed9>\u001b[0m in \u001b[0;36mget_pyix\u001b[0;34m(self, x, yi)\u001b[0m\n\u001b[1;32m     24\u001b[0m     \u001b[0;32mdef\u001b[0m \u001b[0mget_pyix\u001b[0m\u001b[0;34m(\u001b[0m\u001b[0mself\u001b[0m\u001b[0;34m,\u001b[0m \u001b[0mx\u001b[0m\u001b[0;34m,\u001b[0m \u001b[0myi\u001b[0m\u001b[0;34m)\u001b[0m\u001b[0;34m:\u001b[0m\u001b[0;34m\u001b[0m\u001b[0m\n\u001b[1;32m     25\u001b[0m         \u001b[0mw\u001b[0m \u001b[0;34m=\u001b[0m \u001b[0;36m0\u001b[0m\u001b[0;34m\u001b[0m\u001b[0m\n\u001b[0;32m---> 26\u001b[0;31m         \u001b[0;32mfor\u001b[0m \u001b[0mxi\u001b[0m \u001b[0;32min\u001b[0m \u001b[0mx\u001b[0m\u001b[0;34m:\u001b[0m\u001b[0;34m\u001b[0m\u001b[0m\n\u001b[0m\u001b[1;32m     27\u001b[0m             \u001b[0;32mif\u001b[0m \u001b[0;34m(\u001b[0m\u001b[0mxi\u001b[0m\u001b[0;34m,\u001b[0m \u001b[0myi\u001b[0m\u001b[0;34m)\u001b[0m \u001b[0;32min\u001b[0m \u001b[0mself\u001b[0m\u001b[0;34m.\u001b[0m\u001b[0mxy2id\u001b[0m\u001b[0;34m:\u001b[0m\u001b[0;34m\u001b[0m\u001b[0m\n\u001b[1;32m     28\u001b[0m                 \u001b[0mw\u001b[0m \u001b[0;34m+=\u001b[0m \u001b[0mself\u001b[0m\u001b[0;34m.\u001b[0m\u001b[0mw\u001b[0m\u001b[0;34m[\u001b[0m\u001b[0mself\u001b[0m\u001b[0;34m.\u001b[0m\u001b[0mxy2id\u001b[0m\u001b[0;34m[\u001b[0m\u001b[0;34m(\u001b[0m\u001b[0mxi\u001b[0m\u001b[0;34m,\u001b[0m \u001b[0myi\u001b[0m\u001b[0;34m)\u001b[0m\u001b[0;34m]\u001b[0m\u001b[0;34m]\u001b[0m\u001b[0;34m\u001b[0m\u001b[0m\n",
      "\u001b[0;31mKeyboardInterrupt\u001b[0m: "
     ]
    }
   ],
   "source": [
    "myME = MaxEntropy(X, y, 0.01)\n",
    "myME.train(epoch=1000, scope=10)"
   ]
  },
  {
   "cell_type": "code",
   "execution_count": null,
   "metadata": {},
   "outputs": [],
   "source": []
  },
  {
   "cell_type": "code",
   "execution_count": null,
   "metadata": {},
   "outputs": [],
   "source": []
  },
  {
   "cell_type": "code",
   "execution_count": null,
   "metadata": {},
   "outputs": [],
   "source": []
  },
  {
   "cell_type": "code",
   "execution_count": null,
   "metadata": {},
   "outputs": [],
   "source": []
  },
  {
   "cell_type": "code",
   "execution_count": null,
   "metadata": {},
   "outputs": [],
   "source": []
  },
  {
   "cell_type": "code",
   "execution_count": null,
   "metadata": {},
   "outputs": [],
   "source": []
  },
  {
   "cell_type": "code",
   "execution_count": null,
   "metadata": {},
   "outputs": [],
   "source": []
  }
 ],
 "metadata": {
  "kernelspec": {
   "display_name": "Python 3",
   "language": "python",
   "name": "python3"
  },
  "language_info": {
   "codemirror_mode": {
    "name": "ipython",
    "version": 3
   },
   "file_extension": ".py",
   "mimetype": "text/x-python",
   "name": "python",
   "nbconvert_exporter": "python",
   "pygments_lexer": "ipython3",
   "version": "3.5.2"
  }
 },
 "nbformat": 4,
 "nbformat_minor": 2
}
