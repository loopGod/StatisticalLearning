{
 "cells": [
  {
   "cell_type": "markdown",
   "metadata": {},
   "source": [
    "# 第 4 章 DecisionTree\n",
    "## By LiuGang - 2018/11/15\n",
    "## Reference Book - statistical learning method (Chinese)\n",
    "### 1:  Create some data"
   ]
  },
  {
   "cell_type": "code",
   "execution_count": 17,
   "metadata": {},
   "outputs": [],
   "source": [
    "import numpy as np\n",
    "import pandas as pd\n",
    "import warnings\n",
    "warnings.filterwarnings('ignore')\n",
    "# 年龄阶段，有没有工作, 有自己的房子, 信用情况\n",
    "X = np.array([[0,0,0,0],\n",
    "              [0,0,0,1],\n",
    "              [0,1,0,1],\n",
    "              [0,1,1,0],\n",
    "              [0,0,0,0],\n",
    "              [1,0,0,0],\n",
    "              [1,0,0,1],\n",
    "              [1,1,1,1],\n",
    "              [1,0,1,2],\n",
    "              [1,0,1,2],\n",
    "              [2,0,1,2],\n",
    "              [2,0,1,1],\n",
    "              [2,1,0,1],\n",
    "              [2,1,0,2],\n",
    "              [2,0,0,0]])\n",
    "# 0-没有拖欠贷款 1-有拖欠贷款\n",
    "y = np.array([0,0,1,1,0,0,0,1,1,1,1,1,1,1,0])"
   ]
  },
  {
   "cell_type": "markdown",
   "metadata": {},
   "source": [
    "### 2: DecisionTree Class"
   ]
  },
  {
   "cell_type": "code",
   "execution_count": 47,
   "metadata": {},
   "outputs": [],
   "source": [
    "class TreeNode():\n",
    "    def __init__(self, nx):\n",
    "        self.left = None\n",
    "        self.right = None\n",
    "        self.val = nx\n",
    "        self.y = None\n",
    "        self.is_leaf = False\n",
    "        self.feature = None\n",
    "        self.splitpoint = None\n",
    "         \n",
    "class DecisionTree():\n",
    "    def __init__(self, X, y):\n",
    "        self.X = X\n",
    "        self.y = y\n",
    "    \n",
    "    def H(self, y):   #entropy\n",
    "        h = 0\n",
    "        for i in set(y):\n",
    "            p = len(y[y == i])/len(y)\n",
    "            h += -p*np.log2(p)\n",
    "        return h\n",
    "        \n",
    "    def H1(self, x, y):  #conditional entropy\n",
    "        xy = pd.DataFrame()\n",
    "        xy['x'] = x\n",
    "        xy['y'] = y\n",
    "        h = 0\n",
    "        for i in set(x):\n",
    "            p0 = len(x[x == i])/len(x)\n",
    "            p = self.H(y[x==i])\n",
    "            h += p0*p\n",
    "        return h\n",
    "    \n",
    "    def g(self, x, y):      #information gain\n",
    "        return self.H(y) - self.H1(x, y)\n",
    "    \n",
    "    def gR(self, x, y):     #information gain rate\n",
    "        return self.g(x, y)/self.H(y)\n",
    "    \n",
    "    def Gini(self, y):   # Gini index\n",
    "        gini = 0\n",
    "        for i in set(y):\n",
    "            gini += (len(y[y == i])/len(y))**2\n",
    "        return 1 - gini\n",
    "    \n",
    "    def Gini1(self, x, y):   # find splitting point\n",
    "        xy = pd.DataFrame()\n",
    "        xy['x'] = x\n",
    "        xy['y'] = y\n",
    "        gini = []\n",
    "        for i in sorted(list(set(x))):\n",
    "            if xy[xy['x']>i].shape[0] != -1:   # it should be != 0, but '==0' works\n",
    "                gini.append(((xy[xy['x']<=i].shape[0])/len(x))*self.Gini(xy[xy['x']<=i]['y']) + \\\n",
    "                            ((xy[xy['x']>i].shape[0])/len(x))*self.Gini(xy[xy['x']>i]['y']))\n",
    "        return sorted(list(set(x)))[np.argmin(gini)]\n",
    "            \n",
    "    \n",
    "    def select_feature(self, X, y):\n",
    "        feature_gR = []\n",
    "        for i in range(X.shape[1]):\n",
    "            feature_gR.append(self.gR(X[:,i], y))\n",
    "        return np.argmax(feature_gR), np.max(feature_gR)\n",
    "    \n",
    "    def build_tree(self, root, X, y):\n",
    "#     class TreeNode():\n",
    "#         def __init__(self, nx):\n",
    "#             self.left = None\n",
    "#             self.right = None\n",
    "#             self.val = nx\n",
    "#             self.is_leaf = False\n",
    "#             self.splitpoint = None\n",
    "        Xy = pd.DataFrame(X)              # creat dataframe for X and y\n",
    "        Xy.columns = ['c'+str(i) for i in range(X.shape[1])]\n",
    "        Xy['y'] = y\n",
    "        root = TreeNode(X)                          # build node for the X after splitting\n",
    "        root.y = y              # save the y values for the node built\n",
    "        col_num, max_gR = self.select_feature(X, y)  #find best feature's column number\n",
    "        root.feature = col_num      #   save best feature's column number\n",
    "        if max_gR == 0 or max_gR != max_gR:   # max_gR decides if the node is leaf-node\n",
    "            root.is_leaf = True         # the node is or is not leaf-node\n",
    "            return root                 # must return root, otherwise the leaf-node would be outputed\n",
    "        splitpoint = self.Gini1(X[:,col_num], y)    # find best splitpoint's value\n",
    "\n",
    "        root.splitpoint = splitpoint          # find splitpoint for the best feature\n",
    "        root.left = self.build_tree(root.left, Xy[Xy['c'+str(col_num)] <= splitpoint].drop('y',axis=1).values, Xy[Xy['c'+str(col_num)] <= splitpoint]['y'].values)\n",
    "        root.right = self.build_tree(root.right, Xy[Xy['c'+str(col_num)] > splitpoint].drop('y',axis=1).values, Xy[Xy['c'+str(col_num)] > splitpoint]['y'].values)\n",
    "        \n",
    "        return root\n",
    "    \n",
    "    def predict(self, head, xdata):\n",
    "        __result = []\n",
    "        for data in xdata:\n",
    "            __root = head\n",
    "            while not __root.is_leaf:\n",
    "                if data[__root.feature] <= __root.splitpoint:\n",
    "                    __root = __root.left\n",
    "                else:\n",
    "                    __root = __root.right\n",
    "            __result.append(np.argmax(np.bincount(__root.y)))\n",
    "        return __result\n",
    "         "
   ]
  },
  {
   "cell_type": "code",
   "execution_count": 48,
   "metadata": {},
   "outputs": [
    {
     "name": "stdout",
     "output_type": "stream",
     "text": [
      "[0, 0, 1, 1, 0, 0, 0, 1, 1, 1, 1, 1, 1, 1, 0]\n"
     ]
    }
   ],
   "source": [
    "mydt = DecisionTree(X, y)\n",
    "root = mydt.build_tree(None, X, y)\n",
    "print(mydt.predict(root, np.array([[0,0,0,0],\n",
    "                                  [0,0,0,1],\n",
    "                                  [0,1,0,1],\n",
    "                                  [0,1,1,0],\n",
    "                                  [0,0,0,0],\n",
    "                                  [1,0,0,0],\n",
    "                                  [1,0,0,1],\n",
    "                                  [1,1,1,1],\n",
    "                                  [1,0,1,2],\n",
    "                                  [1,0,1,2],\n",
    "                                  [2,0,1,2],\n",
    "                                  [2,0,1,1],\n",
    "                                  [2,1,0,1],\n",
    "                                  [2,1,0,2],\n",
    "                                  [2,0,0,0]])))"
   ]
  },
  {
   "cell_type": "code",
   "execution_count": 36,
   "metadata": {},
   "outputs": [
    {
     "name": "stdout",
     "output_type": "stream",
     "text": [
      "[[0 0 0 0]\n",
      " [0 0 0 1]\n",
      " [0 1 0 1]\n",
      " [0 0 0 0]\n",
      " [1 0 0 0]\n",
      " [1 0 0 1]\n",
      " [2 1 0 1]\n",
      " [2 1 0 2]\n",
      " [2 0 0 0]] 2 0\n",
      "[[0 1 1 0]\n",
      " [1 1 1 1]\n",
      " [1 0 1 2]\n",
      " [1 0 1 2]\n",
      " [2 0 1 2]\n",
      " [2 0 1 1]] [1 1 1 1 1 1]\n"
     ]
    },
    {
     "ename": "NameError",
     "evalue": "name 'error' is not defined",
     "output_type": "error",
     "traceback": [
      "\u001b[0;31m---------------------------------------------------------------------------\u001b[0m",
      "\u001b[0;31mNameError\u001b[0m                                 Traceback (most recent call last)",
      "\u001b[0;32m<ipython-input-36-ecf2a543bfa2>\u001b[0m in \u001b[0;36m<module>\u001b[0;34m()\u001b[0m\n\u001b[1;32m      1\u001b[0m \u001b[0mprint\u001b[0m\u001b[0;34m(\u001b[0m\u001b[0mroot\u001b[0m\u001b[0;34m.\u001b[0m\u001b[0mleft\u001b[0m\u001b[0;34m.\u001b[0m\u001b[0mval\u001b[0m\u001b[0;34m,\u001b[0m\u001b[0mroot\u001b[0m\u001b[0;34m.\u001b[0m\u001b[0mfeature\u001b[0m\u001b[0;34m,\u001b[0m\u001b[0mroot\u001b[0m\u001b[0;34m.\u001b[0m\u001b[0msplitpoint\u001b[0m\u001b[0;34m)\u001b[0m\u001b[0;34m\u001b[0m\u001b[0m\n\u001b[1;32m      2\u001b[0m \u001b[0mprint\u001b[0m\u001b[0;34m(\u001b[0m\u001b[0mroot\u001b[0m\u001b[0;34m.\u001b[0m\u001b[0mright\u001b[0m\u001b[0;34m.\u001b[0m\u001b[0mval\u001b[0m\u001b[0;34m,\u001b[0m\u001b[0mroot\u001b[0m\u001b[0;34m.\u001b[0m\u001b[0mright\u001b[0m\u001b[0;34m.\u001b[0m\u001b[0my\u001b[0m\u001b[0;34m)\u001b[0m\u001b[0;34m\u001b[0m\u001b[0m\n\u001b[0;32m----> 3\u001b[0;31m \u001b[0merror\u001b[0m\u001b[0;34m(\u001b[0m\u001b[0;36m10\u001b[0m\u001b[0;34m)\u001b[0m\u001b[0;34m\u001b[0m\u001b[0m\n\u001b[0m",
      "\u001b[0;31mNameError\u001b[0m: name 'error' is not defined"
     ]
    }
   ],
   "source": [
    "print(root.left.val,root.feature,root.splitpoint)\n",
    "print(root.right.val,root.right.y)\n",
    "error(10)"
   ]
  },
  {
   "cell_type": "code",
   "execution_count": null,
   "metadata": {},
   "outputs": [],
   "source": []
  },
  {
   "cell_type": "code",
   "execution_count": null,
   "metadata": {},
   "outputs": [],
   "source": []
  },
  {
   "cell_type": "code",
   "execution_count": null,
   "metadata": {},
   "outputs": [],
   "source": []
  },
  {
   "cell_type": "code",
   "execution_count": null,
   "metadata": {},
   "outputs": [],
   "source": []
  }
 ],
 "metadata": {
  "kernelspec": {
   "display_name": "Python 3",
   "language": "python",
   "name": "python3"
  },
  "language_info": {
   "codemirror_mode": {
    "name": "ipython",
    "version": 3
   },
   "file_extension": ".py",
   "mimetype": "text/x-python",
   "name": "python",
   "nbconvert_exporter": "python",
   "pygments_lexer": "ipython3",
   "version": "3.5.2"
  }
 },
 "nbformat": 4,
 "nbformat_minor": 2
}
