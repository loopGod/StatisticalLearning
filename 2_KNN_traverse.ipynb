{
 "cells": [
  {
   "cell_type": "markdown",
   "metadata": {},
   "source": [
    "# 第 2 章 KNN（遍历搜索）\n",
    "## By LiuGang - 2018/11/13\n",
    "## Reference Book - statistical learning method (Chinese)\n",
    "\n",
    "### 1:  Create some data"
   ]
  },
  {
   "cell_type": "code",
   "execution_count": 112,
   "metadata": {},
   "outputs": [
    {
     "name": "stdout",
     "output_type": "stream",
     "text": [
      "[5521 1033  741]\n"
     ]
    }
   ],
   "source": [
    "import numpy as np\n",
    "#X = np.array([[1,2],[1,1],[2,1],[2,2],[1.5,3],[3,3],[2.5,0.5],[4,3]])\n",
    "#y = np.array([0,0,0,0,1,1,1,1])\n",
    "np.random.seed(5)\n",
    "X = np.random.randint(1,10000,size=(100000, 3))\n",
    "y = np.array([1 if i%2==0 else 0 for i in range(100000)])"
   ]
  },
  {
   "cell_type": "markdown",
   "metadata": {},
   "source": [
    "### 2: Class"
   ]
  },
  {
   "cell_type": "code",
   "execution_count": 105,
   "metadata": {},
   "outputs": [],
   "source": [
    "class KNN():\n",
    "    def __init__(self,X,y,distance_method,k):\n",
    "        self.X = X\n",
    "        self.y = y\n",
    "        self.distance_method = distance_method\n",
    "        self.dis = []\n",
    "        self.k = k\n",
    "    \n",
    "    def get_euc_dis(self,x1,x2):\n",
    "        return np.sum(np.multiply(x1-x2,x1-x2))**(0.5)\n",
    "    \n",
    "    def get_mah_dis(self):\n",
    "        return np.sum(np.abs(x1-x2))\n",
    "        \n",
    "    def get_dis(self, xdata):\n",
    "        for i in range(self.X.shape[0]):\n",
    "            if self.distance_method=='euc':\n",
    "                self.dis.append(self.get_euc_dis(xdata,self.X[i]))\n",
    "            elif self.distance_method=='mah':\n",
    "                self.dis.append(self.get_mah_dis(xdata,self.X[i]))\n",
    "            else:\n",
    "                print('error: no distance_method!!!')\n",
    "        \n",
    "    def predict_dis(self, data):\n",
    "        pred = []\n",
    "        for xdata in data:\n",
    "            self.dis = []\n",
    "            self.get_dis(xdata)\n",
    "            pred = np.array(self.dis)[np.array(self.dis).argsort()][0:self.k]\n",
    "            #pred.append(np.argmax(np.bincount(np.array([self.y[i] for i in np.array(self.dis).argsort()[0:self.k]]))))\n",
    "        return pred\n",
    "\n",
    "    def predict_point(self, data):\n",
    "        pred = []\n",
    "        for xdata in data:\n",
    "            self.dis = []\n",
    "            self.get_dis(xdata)\n",
    "            pred = np.array(self.X)[np.array(self.dis).argsort()][0:self.k]\n",
    "        return pred\n",
    "    \n",
    "    def predict_y(self, data):\n",
    "        pred = []\n",
    "        for xdata in data:\n",
    "            self.dis = []\n",
    "            self.get_dis(xdata)\n",
    "            pred.append(np.argmax(np.bincount(np.array([self.y[i] for i in np.array(self.dis).argsort()[0:self.k]]))))\n",
    "        return pred"
   ]
  },
  {
   "cell_type": "markdown",
   "metadata": {},
   "source": [
    "### 3: Train and Predict"
   ]
  },
  {
   "cell_type": "code",
   "execution_count": 114,
   "metadata": {},
   "outputs": [
    {
     "name": "stdout",
     "output_type": "stream",
     "text": [
      "[1, 1, 0, 1, 1, 0]\n",
      "9.30661099999999\n"
     ]
    }
   ],
   "source": [
    "import time\n",
    "t0 = time.clock()\n",
    "myknn = KNN(X,y,'euc',5)\n",
    "pred = myknn.predict_y(np.array([[1.95,0,0],[600,1000,200],[7,500,1568],[1.95,0,0],[600,1000,200],[7,500,1568]]))\n",
    "t1 = time.clock()\n",
    "print(pred)\n",
    "print(t1 - t0)"
   ]
  },
  {
   "cell_type": "code",
   "execution_count": null,
   "metadata": {},
   "outputs": [],
   "source": []
  },
  {
   "cell_type": "code",
   "execution_count": null,
   "metadata": {},
   "outputs": [],
   "source": []
  },
  {
   "cell_type": "code",
   "execution_count": null,
   "metadata": {},
   "outputs": [],
   "source": []
  },
  {
   "cell_type": "code",
   "execution_count": null,
   "metadata": {},
   "outputs": [],
   "source": []
  }
 ],
 "metadata": {
  "kernelspec": {
   "display_name": "Python 3",
   "language": "python",
   "name": "python3"
  },
  "language_info": {
   "codemirror_mode": {
    "name": "ipython",
    "version": 3
   },
   "file_extension": ".py",
   "mimetype": "text/x-python",
   "name": "python",
   "nbconvert_exporter": "python",
   "pygments_lexer": "ipython3",
   "version": "3.5.2"
  }
 },
 "nbformat": 4,
 "nbformat_minor": 2
}
