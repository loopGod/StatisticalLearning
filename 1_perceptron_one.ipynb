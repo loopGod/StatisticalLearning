{
 "cells": [
  {
   "cell_type": "markdown",
   "metadata": {},
   "source": [
    "# 第一章 感知机（原始形式）\n",
    "## By LiuGang - 2018/11/12\n",
    "## Reference Book - statistical learning method (Chinese)\n",
    "\n",
    "### 1:  Create some data"
   ]
  },
  {
   "cell_type": "code",
   "execution_count": 72,
   "metadata": {},
   "outputs": [],
   "source": [
    "import numpy as np\n",
    "X = np.array([[1,2],[2,2],[3,1],[5,-0.5],[1,1],[2,0],[0.5,1],[-1,2]])\n",
    "y = np.array([1,1,1,1,-1,-1,-1,-1])"
   ]
  },
  {
   "cell_type": "markdown",
   "metadata": {},
   "source": [
    "### 2: Class"
   ]
  },
  {
   "cell_type": "code",
   "execution_count": 80,
   "metadata": {},
   "outputs": [],
   "source": [
    "class perceptron():\n",
    "    def __init__(self,X,y,lr,init_method,epoch,scope):\n",
    "        self.X = X\n",
    "        self.y = y\n",
    "        self.lr = lr\n",
    "        self.scope=scope\n",
    "        self.init_method = init_method\n",
    "        self.wb = np.zeros((1,self.X.shape[1]+1))\n",
    "        self.epoch = epoch\n",
    "        \n",
    "    def get_init_wb(self):\n",
    "        if self.init_method=='zero':\n",
    "            return np.zeros((1,self.X.shape[1]+1))\n",
    "        elif self.init_method=='rand':\n",
    "            return np.random.rand(1, self.X.shape[1]+1)\n",
    "        elif self.init_method=='randint':\n",
    "            return np.random.randint(0, 10, size=(1, self.X.shape[1]+1))\n",
    "        else:\n",
    "            return init_method\n",
    "        \n",
    "    def update_wb(self):\n",
    "        arr = np.arange(self.X.shape[0])\n",
    "        np.random.shuffle(arr)\n",
    "        for i in range(self.X.shape[0]):\n",
    "            if self.y[arr[i]]*(np.dot(self.wb[0,0:-1], self.X[arr[i]][np.newaxis, :].T)+self.wb[0,-1]) <= 0:\n",
    "                self.wb[0,0:-1] = self.wb[0,0:-1]+self.lr*self.y[arr[i]]*self.X[arr[i]]\n",
    "                self.wb[0,-1] = self.wb[0,-1]+self.lr*self.y[arr[i]]\n",
    "                return\n",
    "            \n",
    "    def calculate_acc(self):\n",
    "        com_cou = 0\n",
    "        for i in range(self.X.shape[0]):\n",
    "            if self.y[i]*(np.dot(self.wb[0,0:-1], self.X[i][np.newaxis, :].T)+self.wb[0,-1]) > 0:\n",
    "                com_cou+=1\n",
    "        return str(round(100*com_cou/self.X.shape[0],2))+'%'\n",
    "    \n",
    "    def train(self):\n",
    "        self.wb = self.get_init_wb()\n",
    "        for i in range(self.epoch):\n",
    "            self.update_wb()\n",
    "            if i%self.scope==0:\n",
    "                print('epoch {} '.format(i+1),'accuracy: ',self.calculate_acc())\n",
    "        print('epoch {} '.format(i+1),'accuracy: ',self.calculate_acc())\n",
    "        print('-------------training finished!!!-------------')\n",
    "        \n",
    "    def predict(self, data):\n",
    "        pred = []\n",
    "        for i in range(data.shape[0]):\n",
    "            pred.append(np.sign(np.dot(self.wb[0,0:-1], self.X[i][np.newaxis, :].T)+self.wb[0,-1])[0])\n",
    "        return pred"
   ]
  },
  {
   "cell_type": "markdown",
   "metadata": {},
   "source": [
    "### 3: Train and Predict"
   ]
  },
  {
   "cell_type": "code",
   "execution_count": 81,
   "metadata": {},
   "outputs": [
    {
     "name": "stdout",
     "output_type": "stream",
     "text": [
      "epoch 1  accuracy:  50.0%\n",
      "epoch 6  accuracy:  50.0%\n",
      "epoch 11  accuracy:  75.0%\n",
      "epoch 16  accuracy:  75.0%\n",
      "epoch 21  accuracy:  75.0%\n",
      "epoch 26  accuracy:  75.0%\n",
      "epoch 31  accuracy:  100.0%\n",
      "epoch 36  accuracy:  100.0%\n",
      "epoch 40  accuracy:  100.0%\n",
      "-------------training finished!!!-------------\n",
      "[1.0, 1.0, 1.0, 1.0, -1.0, -1.0, -1.0, -1.0]\n"
     ]
    }
   ],
   "source": [
    "pcpt = perceptron(X,y,0.5,'zero',40,5)\n",
    "pcpt.train()\n",
    "print(pcpt.predict(X))"
   ]
  },
  {
   "cell_type": "code",
   "execution_count": null,
   "metadata": {},
   "outputs": [],
   "source": []
  },
  {
   "cell_type": "code",
   "execution_count": null,
   "metadata": {},
   "outputs": [],
   "source": []
  },
  {
   "cell_type": "code",
   "execution_count": null,
   "metadata": {},
   "outputs": [],
   "source": []
  },
  {
   "cell_type": "code",
   "execution_count": null,
   "metadata": {},
   "outputs": [],
   "source": []
  }
 ],
 "metadata": {
  "kernelspec": {
   "display_name": "Python 3",
   "language": "python",
   "name": "python3"
  },
  "language_info": {
   "codemirror_mode": {
    "name": "ipython",
    "version": 3
   },
   "file_extension": ".py",
   "mimetype": "text/x-python",
   "name": "python",
   "nbconvert_exporter": "python",
   "pygments_lexer": "ipython3",
   "version": "3.5.2"
  }
 },
 "nbformat": 4,
 "nbformat_minor": 2
}
